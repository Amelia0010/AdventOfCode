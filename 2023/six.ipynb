{
 "cells": [
  {
   "cell_type": "code",
   "execution_count": 38,
   "metadata": {
    "collapsed": true,
    "ExecuteTime": {
     "end_time": "2023-12-06T14:12:44.827118Z",
     "start_time": "2023-12-06T14:12:44.824126Z"
    }
   },
   "outputs": [],
   "source": [
    "input = \"\"\"Time:        54     94     65     92\n",
    "Distance:   302   1476   1029   1404\"\"\""
   ]
  },
  {
   "cell_type": "code",
   "execution_count": 39,
   "outputs": [],
   "source": [
    "import re\n",
    "import math"
   ],
   "metadata": {
    "collapsed": false,
    "ExecuteTime": {
     "end_time": "2023-12-06T14:12:45.138706Z",
     "start_time": "2023-12-06T14:12:45.133796Z"
    }
   }
  },
  {
   "cell_type": "code",
   "execution_count": 40,
   "outputs": [],
   "source": [
    "lines = input.split(\"\\n\")\n",
    "times = [int(x) for x in re.findall(r'\\d+', lines[0])]\n",
    "distances = [int(x) for x in re.findall(r'\\d+', lines[1])]"
   ],
   "metadata": {
    "collapsed": false,
    "ExecuteTime": {
     "end_time": "2023-12-06T14:12:45.523431Z",
     "start_time": "2023-12-06T14:12:45.520963Z"
    }
   }
  },
  {
   "cell_type": "code",
   "execution_count": 41,
   "outputs": [
    {
     "data": {
      "text/plain": "1195150"
     },
     "execution_count": 41,
     "metadata": {},
     "output_type": "execute_result"
    }
   ],
   "source": [
    "total = 1\n",
    "for i in range(len(times)):\n",
    "    a = -1\n",
    "    b = times[i]\n",
    "    c = -distances[i]\n",
    "    d = math.sqrt((b*b) - (4 * a * c))\n",
    "    rootOne = math.floor((-b + d) / (2*a))\n",
    "    rootTwo = math.floor((-b - d) / (2*a))\n",
    "    total *= abs(rootTwo - rootOne)\n",
    "total"
   ],
   "metadata": {
    "collapsed": false,
    "ExecuteTime": {
     "end_time": "2023-12-06T14:12:46.062694Z",
     "start_time": "2023-12-06T14:12:46.059700Z"
    }
   }
  },
  {
   "cell_type": "code",
   "execution_count": 45,
   "outputs": [
    {
     "data": {
      "text/plain": "42550411"
     },
     "execution_count": 45,
     "metadata": {},
     "output_type": "execute_result"
    }
   ],
   "source": [
    "a = -1\n",
    "b = int(\"\".join([str(x) for x in times]))\n",
    "c = -int(\"\".join([str(x) for x in distances]))\n",
    "d = math.sqrt((b*b) - (4 * a * c))\n",
    "rootOne = math.floor((-b + d) / (2*a))\n",
    "rootTwo = math.floor((-b - d) / (2*a))\n",
    "abs(rootTwo - rootOne)"
   ],
   "metadata": {
    "collapsed": false,
    "ExecuteTime": {
     "end_time": "2023-12-06T14:21:01.263671Z",
     "start_time": "2023-12-06T14:21:01.260298Z"
    }
   }
  },
  {
   "cell_type": "code",
   "execution_count": null,
   "outputs": [],
   "source": [],
   "metadata": {
    "collapsed": false
   }
  }
 ],
 "metadata": {
  "kernelspec": {
   "display_name": "Python 3",
   "language": "python",
   "name": "python3"
  },
  "language_info": {
   "codemirror_mode": {
    "name": "ipython",
    "version": 2
   },
   "file_extension": ".py",
   "mimetype": "text/x-python",
   "name": "python",
   "nbconvert_exporter": "python",
   "pygments_lexer": "ipython2",
   "version": "2.7.6"
  }
 },
 "nbformat": 4,
 "nbformat_minor": 0
}
